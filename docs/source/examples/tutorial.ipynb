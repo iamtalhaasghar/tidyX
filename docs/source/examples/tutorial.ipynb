{
 "cells": [
  {
   "attachments": {},
   "cell_type": "markdown",
   "metadata": {},
   "source": [
    "# tidyX examples"
   ]
  },
  {
   "cell_type": "code",
   "execution_count": 1,
   "metadata": {},
   "outputs": [],
   "source": [
    "# pip install tidyX==1.5.4"
   ]
  },
  {
   "cell_type": "code",
   "execution_count": 2,
   "metadata": {},
   "outputs": [
    {
     "name": "stdout",
     "output_type": "stream",
     "text": [
      "Name: tidyX\n",
      "Version: 1.5.4\n",
      "Summary: Python package to clean raw tweets for ML applications\n",
      "Home-page: \n",
      "Author: Lucas Gómez Tobón, Jose Fernando Barrera\n",
      "Author-email: lucasgomeztobon@gmail.com, jf.barrera10@uniandes.edu.co\n",
      "License: MIT\n",
      "Location: c:\\users\\lucas\\anaconda3\\envs\\bx\\lib\\site-packages\n",
      "Requires: emoji, nltk, numpy, pandas, regex, spacy, thefuzz, Unidecode\n",
      "Required-by: \n"
     ]
    }
   ],
   "source": [
    "!pip show tidyX"
   ]
  },
  {
   "cell_type": "code",
   "execution_count": 3,
   "metadata": {},
   "outputs": [],
   "source": [
    "from tidyX import TextPreprocessor as tp\n",
    "from tidyX import TextNormalization as tn\n",
    "from tidyX import TextVisualizer as tv"
   ]
  },
  {
   "attachments": {},
   "cell_type": "markdown",
   "metadata": {},
   "source": [
    "## 1. `remove_repetitions`\n",
    "**Description of the function**\n",
    "\n",
    "This function deletes any consecutive repetition of characters in a string. For example, the string 'coooroosooo' will be changed to 'coroso'. As in many languages it's common to have some special characters that can be repeated, for example the 'l' in spanish to form 'll', the exception argument could be used to specify which characters are allowed to repeat once.\n",
    "\n",
    "**When is it useful to use it?**\n",
    "\n",
    "In social media, it is common for people to repeat certain characters of a word in order to add more emotion to a sentence. However, when we attempt to count the occurrences of a word, the various ways in which a word can be written make it difficult to uniquely identify each instance. One simple solution to this issue is to use the `remove_repetitions` function. Let's consider the following tweet:\n",
    "\n",
    "<center>\n",
    "<img src=\"remove_repetitions1.png\" alt=\"remove_repetitions1\" height=300px />\n",
    "</center>\n",
    "\n",
    "In this particular case, the author writes \"Goooal\" and \"Goal.\" Consequently, it becomes necessary for us to eliminate the repeated \"o\"s in the first word in order to make both words equal."
   ]
  },
  {
   "cell_type": "code",
   "execution_count": 4,
   "metadata": {},
   "outputs": [
    {
     "name": "stdout",
     "output_type": "stream",
     "text": [
      "Before: Goooal ⚽️⚽️⚽️ Christiano Ronaldo Amazing Goal Juventus vs Real Madrid 1-3 Champions League Final #JUVRMA #UCLFinal2017 #JuventusRealMadrid\n"
     ]
    }
   ],
   "source": [
    "string_example = \"Goooal ⚽️⚽️⚽️ Christiano Ronaldo Amazing Goal Juventus vs Real Madrid 1-3 Champions League Final #JUVRMA #UCLFinal2017 #JuventusRealMadrid\"\n",
    "print(\"Before:\", string_example)"
   ]
  },
  {
   "cell_type": "code",
   "execution_count": 5,
   "metadata": {},
   "outputs": [
    {
     "name": "stdout",
     "output_type": "stream",
     "text": [
      "After: Goal ⚽️⚽️⚽️ Christiano Ronaldo Amazing Goal Juventus vs Real Madrid 1-3 Champions League Final #JUVRMA #UCLFinal2017 #JuventusRealMadrid\n"
     ]
    }
   ],
   "source": [
    "string_without_repetitions = tp.remove_repetitions(string = string_example, exceptions = None)\n",
    "print(\"After:\", string_without_repetitions)"
   ]
  },
  {
   "attachments": {},
   "cell_type": "markdown",
   "metadata": {},
   "source": [
    "However, it's worth noting that there exist numerous words that feature the repetition of a single character. To address this, the `remove_repetitions` function incorporates the `exceptions` parameter, which allows for specifying a list of characters that are permitted to appear twice. For instance, if we set `exceptions = ['p']`, words such as 'happpy' will be cleaned and transformed into 'happy'. The default value for this parameter is `['r', 'l', 'n', 'c', 'a', 'e', 'o']`. Let's see another example:\n",
    "\n",
    "<center>\n",
    "<img src=\"remove_repetitions2.png\" alt=\"remove_repetitions2\" width=300px />\n",
    "</center>"
   ]
  },
  {
   "cell_type": "code",
   "execution_count": 6,
   "metadata": {},
   "outputs": [
    {
     "name": "stdout",
     "output_type": "stream",
     "text": [
      "Before: HAPPPYYYYY GRADUATION TO US!! THANKYOUUUU LORD!!! 🫶🤍\n"
     ]
    }
   ],
   "source": [
    "string_example = \"HAPPPYYYYY GRADUATION TO US!! THANKYOUUUU LORD!!! 🫶🤍\"\n",
    "print(\"Before:\", string_example)"
   ]
  },
  {
   "cell_type": "code",
   "execution_count": 7,
   "metadata": {},
   "outputs": [
    {
     "name": "stdout",
     "output_type": "stream",
     "text": [
      "After: HAPPY GRADUATION TO US! THANKYOU LORD! 🫶🤍\n"
     ]
    }
   ],
   "source": [
    "string_without_repetitions = tp.remove_repetitions(string = string_example, \n",
    "    exceptions = [\"P\"])\n",
    "print(\"After:\", string_without_repetitions)"
   ]
  },
  {
   "attachments": {},
   "cell_type": "markdown",
   "metadata": {},
   "source": [
    "## 2. `remove_last_repetition`\n",
    "\n",
    "**Description of the function**\n",
    "\n",
    "The `remove_last_repetition` function is designed to remove the repetition of the last character in each word of a given string. It's particularly useful when dealing with text that contains repeated characters at the end of words, a common occurrence in social media posts where users emphasize words for expression. This function helps clean and standardize the text by eliminating these last-character repetitions.\n",
    "\n",
    "**When is it useful to use it?**\n",
    "\n",
    "Imagine you are analyzing text data from social media platforms, and you want to ensure consistency in your analysis by removing repetitive characters at the end of words. For example, in Spanish, words typically do not end with a repeated character, but social media users often add emphasis by repeating the last character. Let's explore a practical use case with a tweet:"
   ]
  },
  {
   "cell_type": "code",
   "execution_count": 8,
   "metadata": {},
   "outputs": [
    {
     "name": "stdout",
     "output_type": "stream",
     "text": [
      "Before: Holaaaa amigooo\n",
      "After: Hola amigo\n"
     ]
    }
   ],
   "source": [
    "# Original tweet with last-character repetitions\n",
    "string_example = \"Holaaaa amigooo\"\n",
    "print(\"Before:\", string_example)\n",
    "\n",
    "# Apply remove_last_repetition function to clean the text\n",
    "string_without_last_repetitions = tp.remove_last_repetition(string = string_example)\n",
    "print(\"After:\", string_without_last_repetitions)"
   ]
  },
  {
   "cell_type": "markdown",
   "metadata": {},
   "source": [
    "In this case, the input string contains repeated characters at the end of words, like \"Holaaaa\" and \"amigooo.\" To ensure consistent analysis, you can use the `remove_last_repetition` function, which removes the last-character repetitions and transforms the text into \"Hola amigo.\""
   ]
  },
  {
   "attachments": {},
   "cell_type": "markdown",
   "metadata": {},
   "source": [
    "## 3. `remove_urls`\n",
    "**Description of the function**\n",
    "\n",
    "The `remove_urls` function is designed to remove all URLs that start with \"http\" from a given string. It's a handy tool for text processing when you want to eliminate URLs from a text dataset, making it cleaner and more focused on textual content. This function scans the entire string, identifies any sequences of characters that start with \"http\" and continue until a space or end of the line, and removes them.\n",
    "\n",
    "**When is it useful to use it?**\n",
    "\n",
    "You may encounter situations where you want to analyze or visualize the textual content of a dataset, but the presence of URLs can clutter the text and skew your analysis. This is especially common in social media data, chat messages, or web scraping scenarios. Let's explore a practical use case with a sample text containing URLs:"
   ]
  },
  {
   "cell_type": "code",
   "execution_count": 9,
   "metadata": {},
   "outputs": [
    {
     "name": "stdout",
     "output_type": "stream",
     "text": [
      "Before: Check out our website: http://example.com. For more info, visit http://example2.com\n",
      "After: Check out our website: For more info, visit\n"
     ]
    }
   ],
   "source": [
    "# Original text with URLs\n",
    "string_example = \"Check out our website: http://example.com. For more info, visit http://example2.com\"\n",
    "print(\"Before:\", string_example)\n",
    "\n",
    "# Apply remove_urls function to clean the text\n",
    "string_without_urls = tp.remove_urls(string = string_example)\n",
    "print(\"After:\", string_without_urls)"
   ]
  },
  {
   "cell_type": "markdown",
   "metadata": {},
   "source": [
    "In this case, the input string contains two URLs, \"http://example.com\" and \"http://example2.com.\" To focus on the textual content without the distraction of URLs, you can use the `remove_urls` function, which removes them and results in cleaner text."
   ]
  },
  {
   "attachments": {},
   "cell_type": "markdown",
   "metadata": {},
   "source": [
    "## 4. `remove_RT`\n",
    "\n",
    "**Description of the function**\n",
    "\n",
    "The `remove_RT` function is designed to remove the \"RT\" prefix from tweets. In the context of social media, \"RT\" typically stands for \"Retweet\" and is often used as a prefix when users share or retweet content. This function is useful for cleaning and standardizing tweet text data by removing the \"RT\" prefix, accounting for varying amounts of white space after \"RT.\"\n",
    "\n",
    "**When is it useful to use it?**\n",
    "\n",
    "When you're working with tweet data and you want to analyze or visualize the content of tweets without the distraction of the \"RT\" prefix, the remove_RT function comes in handy. Retweets often have the \"RT\" prefix at the beginning, but the amount of white space after \"RT\" can vary. Let's explore a practical use case:"
   ]
  },
  {
   "cell_type": "code",
   "execution_count": 10,
   "metadata": {},
   "outputs": [
    {
     "name": "stdout",
     "output_type": "stream",
     "text": [
      "Before: RT     @username: Check out this amazing article!\n",
      "After: @username: Check out this amazing article!\n"
     ]
    }
   ],
   "source": [
    "# Original tweet with \"RT\" prefix\n",
    "string_example = \"RT     @username: Check out this amazing article!\"\n",
    "print(\"Before:\", string_example)\n",
    "\n",
    "# Apply remove_RT function to clean the tweet\n",
    "cleaned_tweet = tp.remove_RT(string = string_example)\n",
    "print(\"After:\", cleaned_tweet)"
   ]
  },
  {
   "cell_type": "markdown",
   "metadata": {},
   "source": [
    "In this case, the input tweet contains the \"RT\" prefix followed by varying amounts of white space before the actual content of the tweet. To focus on the tweet's content and remove the \"RT\" prefix, you can use the `remove_RT` function, which standardizes the text and results in a tweet without the \"RT\" prefix."
   ]
  },
  {
   "attachments": {},
   "cell_type": "markdown",
   "metadata": {},
   "source": [
    "## 5. `remove_accents`\n",
    "\n",
    "**Description of the function**\n",
    "\n",
    "The `remove_accents` function serves two purposes: it removes accent marks from characters in a given string and can optionally remove emojis. Accent marks can be common in languages like French or Spanish (this specific use case), and removing them can be helpful for text processing tasks. This function provides flexibility by allowing you to choose whether to remove emojis as well.\n",
    "\n",
    "**When is it useful to use it?**\n",
    "\n",
    "The `remove_accents` function is particularly useful when working with text data that contains accented characters, and you want to simplify the text for analysis or comparison. Additionally, if your text data includes emojis that are not relevant to your analysis, you can choose to remove them as well. Let's explore a practical use case:"
   ]
  },
  {
   "cell_type": "code",
   "execution_count": 11,
   "metadata": {},
   "outputs": [
    {
     "name": "stdout",
     "output_type": "stream",
     "text": [
      "Before: Café ☕️ à côté de l'hôtel. 😃\n",
      "After: Cafe a cote de l'hotel.\n"
     ]
    }
   ],
   "source": [
    "# Original text with accents and emojis\n",
    "string_example = \"Café ☕️ à côté de l'hôtel. 😃\"\n",
    "print(\"Before:\", string_example)\n",
    "\n",
    "# Apply remove_accents function to clean the text (removing emojis)\n",
    "cleaned_text = tp.remove_accents(string = string_example, delete_emojis = True)\n",
    "print(\"After:\", cleaned_text)"
   ]
  },
  {
   "cell_type": "markdown",
   "metadata": {},
   "source": [
    "In this case, the input text contains accented characters (e.g., \"é\") and emojis (e.g., \"☕️\" and \"😃\"). To simplify the text for analysis and remove emojis, you can use the `remove_accents` function with the `delete_emojis` option set to True, resulting in cleaned text without accents or emojis."
   ]
  },
  {
   "cell_type": "markdown",
   "metadata": {},
   "source": [
    "This method is flexible over the total number of followed emojis on a text, let's process a Spanish common example:\n",
    "<center>\n",
    "<img src=\"remove_accents.png\" alt=\"remove_accents\" width=500px />\n",
    "</center>"
   ]
  },
  {
   "cell_type": "code",
   "execution_count": 12,
   "metadata": {},
   "outputs": [
    {
     "name": "stdout",
     "output_type": "stream",
     "text": [
      "Before: ‼️ La función de traductor no funciona así que este tweet es solo para nuestros seguidores hispanohablantes, siempre van a ser nuestros favoritos y ahora vamos a poner emojis tristes para que los que no hablan español se preocupen 😭  y también esta foto fuera de contexto 😔💔\n",
      "After: !! La funcion de traductor no funciona asi que este tweet es solo para nuestros seguidores hispanohablantes, siempre van a ser nuestros favoritos y ahora vamos a poner emojis tristes para que los que no hablan espanol se preocupen y tambien esta foto fuera de contexto\n"
     ]
    }
   ],
   "source": [
    "# Original text with accents and emojis\n",
    "string_example = \"‼️ La función de traductor no funciona así que este tweet es solo para nuestros seguidores hispanohablantes, siempre van a ser nuestros favoritos y ahora vamos a poner emojis tristes para que los que no hablan español se preocupen 😭  y también esta foto fuera de contexto 😔💔\"\n",
    "print(\"Before:\", string_example)\n",
    "\n",
    "# Apply remove_accents function to clean the text (removing emojis)\n",
    "cleaned_text = tp.remove_accents(string = string_example, delete_emojis = True)\n",
    "print(\"After:\", cleaned_text)"
   ]
  },
  {
   "cell_type": "markdown",
   "metadata": {},
   "source": [
    "As we saw, the method removed continuously repeated emojis, but passes over \"!!\" v2 class emojis (Link to the emoji: https://abs-0.twimg.com/emoji/v2/svg/203c.svg). This is due to the fact that it is considered an expression, rather not a direct emoji, when you type double exclamation on Twitter. You can see a full list of this wildcard emoji converter expressions on X's documentation in https://twemoji.twitter.com/ and some examples in https://twitter.com/FakeUnicode/status/1251505174348095488"
   ]
  },
  {
   "attachments": {},
   "cell_type": "markdown",
   "metadata": {},
   "source": [
    "## 6. `remove_hashtags`\n",
    "\n",
    "**Description of the function**\n",
    "\n",
    "The `remove_hashtags` function is designed to remove hashtags from a given string. In social media and text data, hashtags are often used to categorize or highlight content. This function scans the input string and removes any text that starts with a '#' and is followed by alphanumeric characters, effectively removing hashtags from the text.\n",
    "\n",
    "**When is it useful to use it?**\n",
    "\n",
    "You might encounter situations where you want to analyze or visualize text data without the presence of hashtags. Hashtags can be prevalent in social media posts and may not be relevant to your analysis. Let's explore a practical use case:"
   ]
  },
  {
   "cell_type": "code",
   "execution_count": 13,
   "metadata": {},
   "outputs": [
    {
     "name": "stdout",
     "output_type": "stream",
     "text": [
      "Before: Exploring the beauty of #nature in #springtime. #NaturePhotography 🌼\n",
      "After: Exploring the beauty of in . 🌼\n"
     ]
    }
   ],
   "source": [
    "# Original text with hashtags\n",
    "string_example = \"Exploring the beauty of #nature in #springtime. #NaturePhotography 🌼\"\n",
    "print(\"Before:\", string_example)\n",
    "\n",
    "# Apply remove_hashtags function to clean the text\n",
    "cleaned_text = tp.remove_hashtags(string = string_example)\n",
    "print(\"After:\", cleaned_text)"
   ]
  },
  {
   "cell_type": "markdown",
   "metadata": {},
   "source": [
    "In this case, the input text contains hashtags such as \"#nature,\" \"#springtime,\" and \"#NaturePhotography.\" To focus on the textual content without the distraction of hashtags, you can use the `remove_hashtags` function, which removes them and results in a cleaner text."
   ]
  },
  {
   "attachments": {},
   "cell_type": "markdown",
   "metadata": {},
   "source": [
    "## 7. `remove_mentions`\n",
    "\n",
    "**Description of the function**\n",
    "\n",
    "The `remove_mentions` function is designed to remove mentions (e.g., @username) from a given tweet string. In the context of social media, mentions are often used to reference or tag other users. This function scans the input tweet string and removes any text that starts with '@' followed by a username. Optionally, it can also return a list of unique mentions found in the tweet.\n",
    "\n",
    "**When is it useful to use it?**\n",
    "\n",
    "You may encounter situations where you want to analyze or visualize tweet text data without the presence of mentions. Mentions can be common in social media posts and may not be relevant to your analysis. Additionally, you might want to extract and track mentioned accounts separately. Let's explore a practical use case:"
   ]
  },
  {
   "cell_type": "code",
   "execution_count": 14,
   "metadata": {},
   "outputs": [
    {
     "name": "stdout",
     "output_type": "stream",
     "text": [
      "Before: Exploring the beauty of nature with @NatureExplorer and @WildlifeEnthusiast. #NaturePhotography 🌼\n",
      "After: Exploring the beauty of nature with and . #NaturePhotography 🌼\n",
      "Extracted Mentions: ['@NatureExplorer', '@WildlifeEnthusiast']\n"
     ]
    }
   ],
   "source": [
    "# Original tweet with mentions\n",
    "string_example = \"Exploring the beauty of nature with @NatureExplorer and @WildlifeEnthusiast. #NaturePhotography 🌼\"\n",
    "print(\"Before:\", string_example)\n",
    "\n",
    "# Apply remove_mentions function to clean the tweet and extract mentions\n",
    "cleaned_text, extracted_mentions = tp.remove_mentions(string=string_example, extract = True)\n",
    "print(\"After:\", cleaned_text)\n",
    "print(\"Extracted Mentions:\", extracted_mentions)"
   ]
  },
  {
   "cell_type": "markdown",
   "metadata": {},
   "source": [
    "In this case, the input tweet text contains mentions such as \"@NatureExplorer\" and \"@WildlifeEnthusiast.\" To focus on the textual content without the distraction of mentions and to extract mentioned accounts, you can use the `remove_mentions` function, which removes mentions and provides a list of unique mentions found in the tweet."
   ]
  },
  {
   "attachments": {},
   "cell_type": "markdown",
   "metadata": {},
   "source": [
    "## 8. `remove_special_characters`\n",
    "\n",
    "**Description of the function**\n",
    "\n",
    "The `remove_special_characters` function is designed to remove all characters from a string except for lowercase letters and spaces. It's a useful tool for cleaning text data when you want to focus on the textual content while excluding punctuation marks, exclamation marks, special characters, numbers, and uppercase letters. This function scans the input string and removes any character that does not match the criteria.\n",
    "\n",
    "**When is it useful to use it?**\n",
    "\n",
    "You may encounter situations where you want to preprocess text data and eliminate special characters and non-lowercase characters to make it more suitable for natural language processing tasks. Cleaning text in this way can help improve text analysis, topic modeling, or sentiment analysis. Let's explore a practical use case:"
   ]
  },
  {
   "cell_type": "code",
   "execution_count": 15,
   "metadata": {},
   "outputs": [
    {
     "name": "stdout",
     "output_type": "stream",
     "text": [
      "Before: This is an example text! It contains special characters. 123\n",
      "After: his is an example text t contains special characters\n"
     ]
    }
   ],
   "source": [
    "string_example = \"This is an example text! It contains special characters. 123\"\n",
    "print(\"Before:\", string_example)\n",
    "\n",
    "# Apply remove_special_characters function to clean the text\n",
    "cleaned_text = tp.remove_special_characters(string = string_example)\n",
    "print(\"After:\", cleaned_text)"
   ]
  },
  {
   "cell_type": "markdown",
   "metadata": {},
   "source": [
    "In this case, the input text contains special characters, punctuation marks, numbers, and uppercase letters. To focus on the textual content with lowercase letters and spaces only, you can use the `remove_special_characters` function, which removes the undesired characters and results in a cleaner text. Beware to lowercase your text before applying this method over your corpus, as you can see on the past example, it can remove useful strings."
   ]
  },
  {
   "attachments": {},
   "cell_type": "markdown",
   "metadata": {},
   "source": [
    "## 9. `remove_extra_spaces`\n",
    "\n",
    "**Description of the function**\n",
    "\n",
    "The `remove_extra_spaces` function is designed to remove extra spaces within and surrounding a given string. It's a valuable tool for cleaning text data when you want to standardize spaces, trim leading and trailing spaces, and replace consecutive spaces between words with a single space. This function helps improve the consistency and readability of text.\n",
    "\n",
    "**When is it useful to use it?**\n",
    "\n",
    "You may encounter situations where you want to preprocess text data and ensure consistent spacing for better readability and analysis. Extra spaces can be common in unstructured text, and cleaning them can enhance text analysis, especially when dealing with natural language processing tasks. Let's explore a practical use case:"
   ]
  },
  {
   "cell_type": "code",
   "execution_count": 16,
   "metadata": {},
   "outputs": [
    {
     "name": "stdout",
     "output_type": "stream",
     "text": [
      "Before: This is    an   example  text with extra   spaces.     \n",
      "After: This is an example text with extra spaces.\n"
     ]
    }
   ],
   "source": [
    "# Original text with extra spaces\n",
    "string_example = \"This is    an   example  text with extra   spaces.     \"\n",
    "print(\"Before:\", string_example)\n",
    "\n",
    "# Apply remove_extra_spaces function to clean the text\n",
    "cleaned_text = tp.remove_extra_spaces(string = string_example)\n",
    "print(\"After:\", cleaned_text)"
   ]
  },
  {
   "cell_type": "markdown",
   "metadata": {},
   "source": [
    "In this case, the input text contains extra spaces between words and leading/trailing spaces. To standardize the spacing and remove the extra spaces, you can use the `remove_extra_spaces` function, which trims leading/trailing spaces and replaces consecutive spaces with a single space."
   ]
  },
  {
   "attachments": {},
   "cell_type": "markdown",
   "metadata": {},
   "source": [
    "## 10. `space_between_emojis`\n",
    "\n",
    "**Description of the function**\n",
    "\n",
    "The `space_between_emojis` function is designed to insert spaces around emojis within a given string. It ensures that emojis are separated from other text or emojis in the string. This function is helpful for improving the readability of text containing emojis and ensuring proper spacing. It also removes any extra spaces resulting from the insertion of spaces around emojis.\n",
    "\n",
    "**When is it useful to use it?**\n",
    "\n",
    "This function is particularly useful when you're working with text data that includes emojis and you want to enhance the visual presentation of the text. Emojis are often used for expressing emotions or conveying messages, and proper spacing ensures that emojis are distinct and do not run together. Let's explore a practical use case:"
   ]
  },
  {
   "cell_type": "code",
   "execution_count": 17,
   "metadata": {},
   "outputs": [
    {
     "name": "stdout",
     "output_type": "stream",
     "text": [
      "Before: I love😍this place🌴It's amazing!👏\n",
      "After: I love 😍 this place 🌴 It's amazing! 👏\n"
     ]
    }
   ],
   "source": [
    "# Original text with emojis\n",
    "string_example = \"I love😍this place🌴It's amazing!👏\"\n",
    "print(\"Before:\", string_example)\n",
    "\n",
    "# Apply space_between_emojis function to add spaces around emojis\n",
    "cleaned_text = tp.space_between_emojis(string = string_example)\n",
    "print(\"After:\", cleaned_text)"
   ]
  },
  {
   "cell_type": "markdown",
   "metadata": {},
   "source": [
    "In this case, the input text contains emojis such as \"😍,\" \"🌴,\" and \"👏\" mixed with regular text. To ensure that emojis are separated from other text and from each other, you can use the `space_between_emojis` function, which inserts spaces around emojis and removes any extra spaces resulting from the insertion."
   ]
  },
  {
   "attachments": {},
   "cell_type": "markdown",
   "metadata": {},
   "source": [
    "## 11. `preprocess`\n",
    "\n",
    "**Description of the function**\n",
    "\n",
    "The `preprocess` function is a comprehensive text preprocessing tool designed to clean and standardize tweet text. It applies a series of cleaning functions to perform tasks such as removing retweet prefixes, converting text to lowercase, removing accents and emojis, extracting or removing mentions, removing URLs, hashtags, special characters, extra spaces, and consecutive repeated characters with specified exceptions. This function offers extensive text cleaning capabilities and prepares tweet text for analysis or visualization.\n",
    "\n",
    "**When is it useful to use it?**\n",
    "\n",
    "The `preprocess` function is particularly useful when you're working with tweet data and need to clean and standardize the text for various text analysis tasks. Tweet text can be messy and contain various elements such as mentions, URLs, emojis, and special characters that may need to be processed and standardized. Let's explore a practical use case:\n"
   ]
  },
  {
   "cell_type": "code",
   "execution_count": 18,
   "metadata": {},
   "outputs": [
    {
     "name": "stdout",
     "output_type": "stream",
     "text": [
      "Before: RT @user1: I love this place! 😍 Check out the link: https://example.com #travel #vacation!!!\n",
      "After: i love this place check out the link\n",
      "Extracted Mentions: ['@user1']\n"
     ]
    }
   ],
   "source": [
    "# Original tweet with various elements\n",
    "string_example = \"RT @user1: I love this place! 😍 Check out the link: https://example.com #travel #vacation!!!\"\n",
    "print(\"Before:\", string_example)\n",
    "\n",
    "# Apply preprocess function to clean and preprocess the tweet\n",
    "cleaned_text, extracted_mentions = tp.preprocess(string = string_example, delete_emojis = True)\n",
    "print(\"After:\", cleaned_text)\n",
    "print(\"Extracted Mentions:\", extracted_mentions)"
   ]
  },
  {
   "cell_type": "markdown",
   "metadata": {},
   "source": [
    "In this case, the input tweet text contains retweet prefixes, mentions, emojis, URLs, hashtags, and special characters. To standardize the tweet text for analysis, you can use the `preprocess` function, which performs a series of cleaning operations to remove or extract various elements and return cleaned text and mentions."
   ]
  },
  {
   "attachments": {},
   "cell_type": "markdown",
   "metadata": {},
   "source": [
    "## 12. `remove_words`\n",
    "\n",
    "**Description of the function**\n",
    "\n",
    "The `remove_words` function is designed to remove all occurrences of specific words listed in the `bag_of_words` parameter from a given string. This function is particularly useful for removing stopwords or any other set of unwanted words from text data. It performs an exact match, meaning it will remove only the exact words listed in the `bag_of_words` and won't remove variations of those words that are not in the list.\n",
    "\n",
    "**When is it useful to use it?**\n",
    "\n",
    "This function is valuable when you want to clean text data by removing specific words that are not relevant to your analysis or that you consider stopwords. It's commonly used in natural language processing tasks to improve the quality of text analysis, topic modeling, or sentiment analysis. Let's explore a practical use case:\n"
   ]
  },
  {
   "cell_type": "code",
   "execution_count": 19,
   "metadata": {},
   "outputs": [
    {
     "name": "stdout",
     "output_type": "stream",
     "text": [
      "Before: This is an example sentence with some unnecessary words like 'the', 'is', and 'with'.\n",
      "Stopwords to Remove: ['the', 'is', 'and', 'with']\n",
      "After: This an example sentence some unnecessary words like '', '', ''.\n"
     ]
    }
   ],
   "source": [
    "# Original text with stopwords\n",
    "string_example = \"This is an example sentence with some unnecessary words like 'the', 'is', and 'with'.\"\n",
    "print(\"Before:\", string_example)\n",
    "\n",
    "# List of stopwords to remove\n",
    "stopwords = [\"the\", \"is\", \"and\", \"with\"]\n",
    "print(\"Stopwords to Remove:\", stopwords)\n",
    "\n",
    "# Apply remove_words function to clean the text\n",
    "cleaned_text = tp.remove_words(string = string_example, bag_of_words = stopwords)\n",
    "print(\"After:\", cleaned_text)"
   ]
  },
  {
   "cell_type": "markdown",
   "metadata": {},
   "source": [
    "In this case, the input text contains stopwords such as \"the,\" \"is,\" and \"with.\" To clean the text by removing these stopwords, you can use the `remove_words` function, which removes the specified words from the text."
   ]
  },
  {
   "attachments": {},
   "cell_type": "markdown",
   "metadata": {},
   "source": [
    "## 13. `unnest_tokens`\n",
    "\n",
    "**Description of the function**\n",
    "\n",
    "The `unnest_tokens` function is designed to flatten a pandas DataFrame by tokenizing a specified column. It takes a pandas DataFrame, the name of the column to tokenize, and an optional flag to create an \"id\" column based on the DataFrame's index. Each token in the specified column becomes a separate row in the resulting DataFrame, effectively \"exploding\" the data into a long format.\n",
    "\n",
    "**When is it useful to use it?**\n",
    "\n",
    "This function is useful when you have text data stored in a DataFrame, and you want to transform it into a format that is more suitable for certain text analysis or modeling tasks. For instance, when working with natural language processing or text mining, you may need to tokenize text data and represent it in a format where each token corresponds to a separate row. Let's explore a practical use case:"
   ]
  },
  {
   "cell_type": "code",
   "execution_count": 30,
   "metadata": {},
   "outputs": [
    {
     "name": "stdout",
     "output_type": "stream",
     "text": [
      "Original DataFrame:\n"
     ]
    },
    {
     "data": {
      "text/html": [
       "<div>\n",
       "<style scoped>\n",
       "    .dataframe tbody tr th:only-of-type {\n",
       "        vertical-align: middle;\n",
       "    }\n",
       "\n",
       "    .dataframe tbody tr th {\n",
       "        vertical-align: top;\n",
       "    }\n",
       "\n",
       "    .dataframe thead th {\n",
       "        text-align: right;\n",
       "    }\n",
       "</style>\n",
       "<table border=\"1\" class=\"dataframe\">\n",
       "  <thead>\n",
       "    <tr style=\"text-align: right;\">\n",
       "      <th></th>\n",
       "      <th>documents</th>\n",
       "    </tr>\n",
       "  </thead>\n",
       "  <tbody>\n",
       "    <tr>\n",
       "      <th>0</th>\n",
       "      <td>This is a sample sentence.</td>\n",
       "    </tr>\n",
       "    <tr>\n",
       "      <th>1</th>\n",
       "      <td>Another sentence with tokens.</td>\n",
       "    </tr>\n",
       "    <tr>\n",
       "      <th>2</th>\n",
       "      <td>Text analysis is interesting.</td>\n",
       "    </tr>\n",
       "  </tbody>\n",
       "</table>\n",
       "</div>"
      ],
      "text/plain": [
       "                       documents\n",
       "0     This is a sample sentence.\n",
       "1  Another sentence with tokens.\n",
       "2  Text analysis is interesting."
      ]
     },
     "execution_count": 30,
     "metadata": {},
     "output_type": "execute_result"
    }
   ],
   "source": [
    "import pandas as pd\n",
    "# Create a sample DataFrame with a text column\n",
    "data = {'documents': [\"This is a sample sentence.\",\n",
    "                      \"Another sentence with tokens.\",\n",
    "                      \"Text analysis is interesting.\"]}\n",
    "\n",
    "df = pd.DataFrame(data)\n",
    "print(\"Original DataFrame:\")\n",
    "df"
   ]
  },
  {
   "cell_type": "markdown",
   "metadata": {},
   "source": [
    "In this case, the input DataFrame contains a column named 'documents' with sentences. To tokenize the text and transform it into a long format where each token is a separate row, you can use the `unnest_tokens` function."
   ]
  },
  {
   "cell_type": "code",
   "execution_count": 33,
   "metadata": {},
   "outputs": [
    {
     "data": {
      "text/html": [
       "<div>\n",
       "<style scoped>\n",
       "    .dataframe tbody tr th:only-of-type {\n",
       "        vertical-align: middle;\n",
       "    }\n",
       "\n",
       "    .dataframe tbody tr th {\n",
       "        vertical-align: top;\n",
       "    }\n",
       "\n",
       "    .dataframe thead th {\n",
       "        text-align: right;\n",
       "    }\n",
       "</style>\n",
       "<table border=\"1\" class=\"dataframe\">\n",
       "  <thead>\n",
       "    <tr style=\"text-align: right;\">\n",
       "      <th></th>\n",
       "      <th>documents</th>\n",
       "      <th>documents_preprocessed</th>\n",
       "    </tr>\n",
       "  </thead>\n",
       "  <tbody>\n",
       "    <tr>\n",
       "      <th>0</th>\n",
       "      <td>This is a sample sentence.</td>\n",
       "      <td>this is a sample sentence</td>\n",
       "    </tr>\n",
       "    <tr>\n",
       "      <th>1</th>\n",
       "      <td>Another sentence with tokens.</td>\n",
       "      <td>another sentence with tokens</td>\n",
       "    </tr>\n",
       "    <tr>\n",
       "      <th>2</th>\n",
       "      <td>Text analysis is interesting.</td>\n",
       "      <td>text analysis is interesting</td>\n",
       "    </tr>\n",
       "  </tbody>\n",
       "</table>\n",
       "</div>"
      ],
      "text/plain": [
       "                       documents        documents_preprocessed\n",
       "0     This is a sample sentence.     this is a sample sentence\n",
       "1  Another sentence with tokens.  another sentence with tokens\n",
       "2  Text analysis is interesting.  text analysis is interesting"
      ]
     },
     "execution_count": 33,
     "metadata": {},
     "output_type": "execute_result"
    }
   ],
   "source": [
    "# First preprocess the text easily\n",
    "df[\"documents_preprocessed\"] = df[\"documents\"].apply(lambda x: tp.preprocess(x, extract = False))\n",
    "df"
   ]
  },
  {
   "cell_type": "code",
   "execution_count": 34,
   "metadata": {},
   "outputs": [
    {
     "name": "stdout",
     "output_type": "stream",
     "text": [
      "\n",
      "Tokenized DataFrame:\n"
     ]
    },
    {
     "data": {
      "text/html": [
       "<div>\n",
       "<style scoped>\n",
       "    .dataframe tbody tr th:only-of-type {\n",
       "        vertical-align: middle;\n",
       "    }\n",
       "\n",
       "    .dataframe tbody tr th {\n",
       "        vertical-align: top;\n",
       "    }\n",
       "\n",
       "    .dataframe thead th {\n",
       "        text-align: right;\n",
       "    }\n",
       "</style>\n",
       "<table border=\"1\" class=\"dataframe\">\n",
       "  <thead>\n",
       "    <tr style=\"text-align: right;\">\n",
       "      <th></th>\n",
       "      <th>documents</th>\n",
       "      <th>documents_preprocessed</th>\n",
       "      <th>id</th>\n",
       "    </tr>\n",
       "  </thead>\n",
       "  <tbody>\n",
       "    <tr>\n",
       "      <th>0</th>\n",
       "      <td>This is a sample sentence.</td>\n",
       "      <td>this</td>\n",
       "      <td>0</td>\n",
       "    </tr>\n",
       "    <tr>\n",
       "      <th>0</th>\n",
       "      <td>This is a sample sentence.</td>\n",
       "      <td>is</td>\n",
       "      <td>0</td>\n",
       "    </tr>\n",
       "    <tr>\n",
       "      <th>0</th>\n",
       "      <td>This is a sample sentence.</td>\n",
       "      <td>a</td>\n",
       "      <td>0</td>\n",
       "    </tr>\n",
       "    <tr>\n",
       "      <th>0</th>\n",
       "      <td>This is a sample sentence.</td>\n",
       "      <td>sample</td>\n",
       "      <td>0</td>\n",
       "    </tr>\n",
       "    <tr>\n",
       "      <th>0</th>\n",
       "      <td>This is a sample sentence.</td>\n",
       "      <td>sentence</td>\n",
       "      <td>0</td>\n",
       "    </tr>\n",
       "    <tr>\n",
       "      <th>1</th>\n",
       "      <td>Another sentence with tokens.</td>\n",
       "      <td>another</td>\n",
       "      <td>1</td>\n",
       "    </tr>\n",
       "    <tr>\n",
       "      <th>1</th>\n",
       "      <td>Another sentence with tokens.</td>\n",
       "      <td>sentence</td>\n",
       "      <td>1</td>\n",
       "    </tr>\n",
       "    <tr>\n",
       "      <th>1</th>\n",
       "      <td>Another sentence with tokens.</td>\n",
       "      <td>with</td>\n",
       "      <td>1</td>\n",
       "    </tr>\n",
       "    <tr>\n",
       "      <th>1</th>\n",
       "      <td>Another sentence with tokens.</td>\n",
       "      <td>tokens</td>\n",
       "      <td>1</td>\n",
       "    </tr>\n",
       "    <tr>\n",
       "      <th>2</th>\n",
       "      <td>Text analysis is interesting.</td>\n",
       "      <td>text</td>\n",
       "      <td>2</td>\n",
       "    </tr>\n",
       "    <tr>\n",
       "      <th>2</th>\n",
       "      <td>Text analysis is interesting.</td>\n",
       "      <td>analysis</td>\n",
       "      <td>2</td>\n",
       "    </tr>\n",
       "    <tr>\n",
       "      <th>2</th>\n",
       "      <td>Text analysis is interesting.</td>\n",
       "      <td>is</td>\n",
       "      <td>2</td>\n",
       "    </tr>\n",
       "    <tr>\n",
       "      <th>2</th>\n",
       "      <td>Text analysis is interesting.</td>\n",
       "      <td>interesting</td>\n",
       "      <td>2</td>\n",
       "    </tr>\n",
       "  </tbody>\n",
       "</table>\n",
       "</div>"
      ],
      "text/plain": [
       "                       documents documents_preprocessed  id\n",
       "0     This is a sample sentence.                   this   0\n",
       "0     This is a sample sentence.                     is   0\n",
       "0     This is a sample sentence.                      a   0\n",
       "0     This is a sample sentence.                 sample   0\n",
       "0     This is a sample sentence.               sentence   0\n",
       "1  Another sentence with tokens.                another   1\n",
       "1  Another sentence with tokens.               sentence   1\n",
       "1  Another sentence with tokens.                   with   1\n",
       "1  Another sentence with tokens.                 tokens   1\n",
       "2  Text analysis is interesting.                   text   2\n",
       "2  Text analysis is interesting.               analysis   2\n",
       "2  Text analysis is interesting.                     is   2\n",
       "2  Text analysis is interesting.            interesting   2"
      ]
     },
     "execution_count": 34,
     "metadata": {},
     "output_type": "execute_result"
    }
   ],
   "source": [
    "# Apply unnest_tokens function to tokenize the text column\n",
    "tokenized_df = tp.unnest_tokens(df = df.copy(), input_column = \"documents_preprocessed\", \n",
    "                                id_col = None, unique = False)\n",
    "print(\"\\nTokenized DataFrame:\")\n",
    "tokenized_df"
   ]
  },
  {
   "cell_type": "markdown",
   "metadata": {},
   "source": [
    "If we wish to stem or lemmatize tokens, it's more efficient to do it once for each unique word. Thus, we can utilize the unique parameter to condense the dataframe, ensuring each word appears only once."
   ]
  },
  {
   "cell_type": "code",
   "execution_count": 35,
   "metadata": {},
   "outputs": [
    {
     "name": "stdout",
     "output_type": "stream",
     "text": [
      "\n",
      "Tokenized DataFrame:\n"
     ]
    },
    {
     "data": {
      "text/html": [
       "<div>\n",
       "<style scoped>\n",
       "    .dataframe tbody tr th:only-of-type {\n",
       "        vertical-align: middle;\n",
       "    }\n",
       "\n",
       "    .dataframe tbody tr th {\n",
       "        vertical-align: top;\n",
       "    }\n",
       "\n",
       "    .dataframe thead th {\n",
       "        text-align: right;\n",
       "    }\n",
       "</style>\n",
       "<table border=\"1\" class=\"dataframe\">\n",
       "  <thead>\n",
       "    <tr style=\"text-align: right;\">\n",
       "      <th></th>\n",
       "      <th>documents_preprocessed</th>\n",
       "      <th>id</th>\n",
       "    </tr>\n",
       "  </thead>\n",
       "  <tbody>\n",
       "    <tr>\n",
       "      <th>0</th>\n",
       "      <td>a</td>\n",
       "      <td>0</td>\n",
       "    </tr>\n",
       "    <tr>\n",
       "      <th>1</th>\n",
       "      <td>analysis</td>\n",
       "      <td>2</td>\n",
       "    </tr>\n",
       "    <tr>\n",
       "      <th>2</th>\n",
       "      <td>another</td>\n",
       "      <td>1</td>\n",
       "    </tr>\n",
       "    <tr>\n",
       "      <th>3</th>\n",
       "      <td>interesting</td>\n",
       "      <td>2</td>\n",
       "    </tr>\n",
       "    <tr>\n",
       "      <th>4</th>\n",
       "      <td>is</td>\n",
       "      <td>0, 2</td>\n",
       "    </tr>\n",
       "    <tr>\n",
       "      <th>5</th>\n",
       "      <td>sample</td>\n",
       "      <td>0</td>\n",
       "    </tr>\n",
       "    <tr>\n",
       "      <th>6</th>\n",
       "      <td>sentence</td>\n",
       "      <td>0, 1</td>\n",
       "    </tr>\n",
       "    <tr>\n",
       "      <th>7</th>\n",
       "      <td>text</td>\n",
       "      <td>2</td>\n",
       "    </tr>\n",
       "    <tr>\n",
       "      <th>8</th>\n",
       "      <td>this</td>\n",
       "      <td>0</td>\n",
       "    </tr>\n",
       "    <tr>\n",
       "      <th>9</th>\n",
       "      <td>tokens</td>\n",
       "      <td>1</td>\n",
       "    </tr>\n",
       "    <tr>\n",
       "      <th>10</th>\n",
       "      <td>with</td>\n",
       "      <td>1</td>\n",
       "    </tr>\n",
       "  </tbody>\n",
       "</table>\n",
       "</div>"
      ],
      "text/plain": [
       "   documents_preprocessed    id\n",
       "0                       a     0\n",
       "1                analysis     2\n",
       "2                 another     1\n",
       "3             interesting     2\n",
       "4                      is  0, 2\n",
       "5                  sample     0\n",
       "6                sentence  0, 1\n",
       "7                    text     2\n",
       "8                    this     0\n",
       "9                  tokens     1\n",
       "10                   with     1"
      ]
     },
     "execution_count": 35,
     "metadata": {},
     "output_type": "execute_result"
    }
   ],
   "source": [
    "tokenized_df2 = tp.unnest_tokens(df = df.copy(), input_column = \"documents_preprocessed\", \n",
    "                                 id_col = None, unique = True)\n",
    "print(\"\\nTokenized DataFrame:\")\n",
    "tokenized_df2"
   ]
  },
  {
   "attachments": {},
   "cell_type": "markdown",
   "metadata": {},
   "source": [
    "## 14. `spanish_lemmatizer`\n",
    "\n",
    "**Description of the function**\n",
    "\n",
    "The `spanish_lemmatizer` function is designed to lemmatize a given Spanish language token using Spacy's Spanish language model. It takes a token (word) and a Spacy language model object as input and returns the lemmatized version of the token with accents removed. This function is valuable for text analysis tasks where you need to reduce words to their base or dictionary form.\n",
    "\n",
    "**When is it useful to use it?**\n",
    "\n",
    "This function is useful when you're working with text data in Spanish and want to perform text analysis tasks such as sentiment analysis, topic modeling, or text classification. Lemmatization helps standardize words to their base form, reducing the complexity of text data. Let's explore a practical use case:"
   ]
  },
  {
   "cell_type": "code",
   "execution_count": 36,
   "metadata": {},
   "outputs": [],
   "source": [
    "import spacy"
   ]
  },
  {
   "cell_type": "code",
   "execution_count": null,
   "metadata": {},
   "outputs": [],
   "source": [
    "!python -m spacy download es_core_news_sm"
   ]
  },
  {
   "cell_type": "code",
   "execution_count": 37,
   "metadata": {},
   "outputs": [
    {
     "name": "stdout",
     "output_type": "stream",
     "text": [
      "Original Token: corriendo\n",
      "Lemmatized Token: correr\n"
     ]
    }
   ],
   "source": [
    "# Input token to lemmatize\n",
    "token = \"corriendo\"  # Example token in Spanish\n",
    "print(\"Original Token:\", token)\n",
    "\n",
    "# Load spacy's model\n",
    "model = spacy.load('es_core_news_sm')\n",
    "\n",
    "# Apply spanish_lemmatizer function to lemmatize the token\n",
    "lemmatized_token = tn.spanish_lemmatizer(token = token, model = model)\n",
    "print(\"Lemmatized Token:\", lemmatized_token)"
   ]
  },
  {
   "cell_type": "markdown",
   "metadata": {},
   "source": [
    "In this case, we have an input token, \"corriendo,\" in Spanish that we want to lemmatize to its base form. We use the `spanish_lemmatizer` function to perform the lemmatization."
   ]
  },
  {
   "cell_type": "markdown",
   "metadata": {},
   "source": [
    "## 15. `spanish_stemmer`\n",
    "\n",
    "**Description of the function**\n",
    "\n",
    "The `spanish_stemmer` function is designed to stem a given Spanish language token using the Snowball stemmer for Spanish from the nltk library. Stemming is the process of reducing a word to its word stem, often by stripping suffixes. Unlike lemmatization, stemming doesn't always produce a valid word and doesn't consider the meaning of a word in the context. This function takes a token (word) as input and returns its stemmed version.\n",
    "\n",
    "**When is it useful to use it?**\n",
    "\n",
    "This function is useful when you're working with text data in Spanish and wish to perform text analysis tasks like sentiment analysis, topic modeling, or text classification. While lemmatization reduces words to their dictionary forms, stemming strips suffixes to produce a common base. This helps in reducing the complexity of text data. Let's explore a practical use case:"
   ]
  },
  {
   "cell_type": "code",
   "execution_count": 38,
   "metadata": {},
   "outputs": [
    {
     "name": "stdout",
     "output_type": "stream",
     "text": [
      "Original Token: corriendo\n",
      "stemed Token: corr\n"
     ]
    }
   ],
   "source": [
    "# Input token to stem\n",
    "token = \"corriendo\"  # Example token in Spanish\n",
    "print(\"Original Token:\", token)\n",
    "\n",
    "# Apply spanish_stemmer function to stem the token\n",
    "stemed_token = tn.spanish_stemmer(token = token)\n",
    "print(\"stemed Token:\", stemed_token)"
   ]
  },
  {
   "attachments": {},
   "cell_type": "markdown",
   "metadata": {},
   "source": [
    "## 16. `create_bol`\n",
    "\n",
    "**Description of the function**\n",
    "\n",
    "The `create_bol` function is designed to group lemmas based on Levenshtein distance to handle misspelled words in social media data. It takes a numpy array containing lemmas and an optional verbose flag for progress reporting. The function groups similar lemmas into bags of lemmas based on their Levenshtein distance. The result is a pandas DataFrame that contains information about the bags of lemmas, including their IDs, names, associated lemmas, and the similarity threshold used for grouping.\n",
    "\n",
    "**When is it useful to use it?**\n",
    "\n",
    "This function is useful when you're dealing with text data, especially social media data, where misspelled or variations of words are common. Grouping similar lemmas together can help clean and organize text data for analysis, improving the accuracy of text-based tasks like sentiment analysis or topic modeling. Let's explore a practical use case:"
   ]
  },
  {
   "cell_type": "code",
   "execution_count": 41,
   "metadata": {},
   "outputs": [
    {
     "name": "stdout",
     "output_type": "stream",
     "text": [
      "Original Lemmas:\n",
      "['apple' 'aple' 'apples' 'banana' 'banan' 'bananas' 'cherry' 'cheri'\n",
      " 'cherries']\n",
      "\n",
      "Bags of Lemmas DataFrame:\n"
     ]
    },
    {
     "data": {
      "text/html": [
       "<div>\n",
       "<style scoped>\n",
       "    .dataframe tbody tr th:only-of-type {\n",
       "        vertical-align: middle;\n",
       "    }\n",
       "\n",
       "    .dataframe tbody tr th {\n",
       "        vertical-align: top;\n",
       "    }\n",
       "\n",
       "    .dataframe thead th {\n",
       "        text-align: right;\n",
       "    }\n",
       "</style>\n",
       "<table border=\"1\" class=\"dataframe\">\n",
       "  <thead>\n",
       "    <tr style=\"text-align: right;\">\n",
       "      <th></th>\n",
       "      <th>bow_id</th>\n",
       "      <th>bow_name</th>\n",
       "      <th>lemma</th>\n",
       "      <th>similarity</th>\n",
       "      <th>threshold</th>\n",
       "    </tr>\n",
       "  </thead>\n",
       "  <tbody>\n",
       "    <tr>\n",
       "      <th>0</th>\n",
       "      <td>1</td>\n",
       "      <td>apple</td>\n",
       "      <td>apple</td>\n",
       "      <td>100</td>\n",
       "      <td>86</td>\n",
       "    </tr>\n",
       "    <tr>\n",
       "      <th>1</th>\n",
       "      <td>1</td>\n",
       "      <td>apple</td>\n",
       "      <td>aple</td>\n",
       "      <td>89</td>\n",
       "      <td>86</td>\n",
       "    </tr>\n",
       "    <tr>\n",
       "      <th>2</th>\n",
       "      <td>1</td>\n",
       "      <td>apple</td>\n",
       "      <td>apples</td>\n",
       "      <td>91</td>\n",
       "      <td>86</td>\n",
       "    </tr>\n",
       "    <tr>\n",
       "      <th>3</th>\n",
       "      <td>2</td>\n",
       "      <td>banana</td>\n",
       "      <td>banana</td>\n",
       "      <td>100</td>\n",
       "      <td>85</td>\n",
       "    </tr>\n",
       "    <tr>\n",
       "      <th>4</th>\n",
       "      <td>2</td>\n",
       "      <td>banana</td>\n",
       "      <td>banan</td>\n",
       "      <td>91</td>\n",
       "      <td>85</td>\n",
       "    </tr>\n",
       "    <tr>\n",
       "      <th>5</th>\n",
       "      <td>2</td>\n",
       "      <td>banana</td>\n",
       "      <td>bananas</td>\n",
       "      <td>92</td>\n",
       "      <td>85</td>\n",
       "    </tr>\n",
       "    <tr>\n",
       "      <th>6</th>\n",
       "      <td>3</td>\n",
       "      <td>cherry</td>\n",
       "      <td>cherry</td>\n",
       "      <td>100</td>\n",
       "      <td>85</td>\n",
       "    </tr>\n",
       "    <tr>\n",
       "      <th>7</th>\n",
       "      <td>4</td>\n",
       "      <td>cheri</td>\n",
       "      <td>cheri</td>\n",
       "      <td>100</td>\n",
       "      <td>86</td>\n",
       "    </tr>\n",
       "    <tr>\n",
       "      <th>8</th>\n",
       "      <td>5</td>\n",
       "      <td>cherries</td>\n",
       "      <td>cherries</td>\n",
       "      <td>100</td>\n",
       "      <td>85</td>\n",
       "    </tr>\n",
       "  </tbody>\n",
       "</table>\n",
       "</div>"
      ],
      "text/plain": [
       "   bow_id  bow_name     lemma  similarity  threshold\n",
       "0       1     apple     apple         100         86\n",
       "1       1     apple      aple          89         86\n",
       "2       1     apple    apples          91         86\n",
       "3       2    banana    banana         100         85\n",
       "4       2    banana     banan          91         85\n",
       "5       2    banana   bananas          92         85\n",
       "6       3    cherry    cherry         100         85\n",
       "7       4     cheri     cheri         100         86\n",
       "8       5  cherries  cherries         100         85"
      ]
     },
     "execution_count": 41,
     "metadata": {},
     "output_type": "execute_result"
    }
   ],
   "source": [
    "import pandas as pd\n",
    "import numpy as np\n",
    "\n",
    "# Create a numpy array of lemmas\n",
    "lemmas = np.array(['apple', 'aple', 'apples', 'banana', 'banan', 'bananas', 'cherry', 'cheri', 'cherries'])\n",
    "print(\"Original Lemmas:\")\n",
    "print(lemmas)\n",
    "\n",
    "# Apply create_bol function to group similar lemmas\n",
    "bol_df = tp.create_bol(lemmas = lemmas, verbose = False)\n",
    "print(\"\\nBags of Lemmas DataFrame:\")\n",
    "bol_df"
   ]
  },
  {
   "cell_type": "markdown",
   "metadata": {},
   "source": [
    "In this case, we have an array of lemmas representing fruits, but some of the lemmas are misspelled or have variations. We want to group similar lemmas together into bags of lemmas using the `create_bol` function."
   ]
  },
  {
   "cell_type": "markdown",
   "metadata": {},
   "source": [
    "## 17. `get_most_common_strings`\n",
    "\n",
    "**Description of the function**\n",
    "\n",
    "The `get_most_common_strings` function is designed to identify and retrieve the most common strings in a list of texts. It takes two arguments: a list of texts and an integer specifying the number of most common words to return. The function calculates word frequencies across the texts and returns a list of the most frequently occurring words along with their respective counts.\n",
    "\n",
    "**When is it useful to use it?**\n",
    "\n",
    "This function is particularly useful when you want to gain insights into the content of a collection of texts. It helps you identify which words or strings are the most prevalent within the text data. You can use this information for various purposes, including data validation, descriptive analysis, or identifying significant terms in text data. Let's explore a practical use case:"
   ]
  },
  {
   "cell_type": "code",
   "execution_count": 42,
   "metadata": {},
   "outputs": [
    {
     "name": "stdout",
     "output_type": "stream",
     "text": [
      "Most Common Strings:\n",
      "[('quick', 4), ('brown', 3), ('jumps', 3), ('over', 3), ('lazy', 3)]\n"
     ]
    }
   ],
   "source": [
    "# List of example texts\n",
    "texts = [\n",
    "    \"The quick brown fox jumps over the lazy dog.\",\n",
    "    \"A quick brown dog jumps over a lazy fox.\",\n",
    "    \"The quick brown dog jumps over the quick lazy fox.\"\n",
    "]\n",
    "\n",
    "# Number of most common strings to retrieve\n",
    "num_strings = 5\n",
    "\n",
    "# Apply get_most_common_strings function to find the most common words\n",
    "most_common_words = tp.get_most_common_strings(texts = texts, num_strings = num_strings)\n",
    "print(\"Most Common Strings:\")\n",
    "print(most_common_words)"
   ]
  },
  {
   "cell_type": "markdown",
   "metadata": {},
   "source": [
    "In this case, we have a list of example texts, and we want to find the most common words within these texts using the `get_most_common_strings` function."
   ]
  },
  {
   "cell_type": "markdown",
   "metadata": {},
   "source": [
    "## 18. `dependency_parse_visualizer_text`\n",
    "\n",
    "**Description of the function**\n",
    "\n",
    "The `dependency_parse_visualizer_text` function is designed to visualize the dependency parsing or named entity recognition (NER) of a single text document. It leverages spaCy's visualization tool, DisplaCy, to render a graphical representation of linguistic features. The function is configurable, allowing you to specify the visualization style, whether you're working within a Jupyter notebook environment, and which spaCy model to use for parsing.\n",
    "\n",
    "**When is it Useful to Use this Function?**\n",
    "\n",
    "This function is beneficial in multiple scenarios:\n",
    "\n",
    "1. **Exploratory Data Analysis (EDA):** During the initial stages of text analysis, understanding the syntactic structure of your documents can be crucial. The visualization helps you to quickly grasp the relationships between words in a sentence or identify named entities.\n",
    "\n",
    "2. **Debugging NLP Pipelines:** If you're building an NLP pipeline that includes dependency parsing or named entity recognition, this function serves as a helpful debugging tool. You can visually confirm whether the spaCy model is interpreting the text as expected.\n",
    "\n",
    "3. **Educational Purposes:** If you're learning about dependency parsing or named entity recognition, visual representations can significantly aid your understanding of these complex linguistic features.\n",
    "\n",
    "4. **Reporting and Presentation:** You can use this function to generate visualizations for reports or presentations, making your findings more accessible to those without a technical background in linguistics or NLP.\n",
    "\n",
    "Here a practical dependency example:"
   ]
  },
  {
   "cell_type": "code",
   "execution_count": null,
   "metadata": {},
   "outputs": [],
   "source": [
    "!python -m spacy download es_core_news_sm"
   ]
  },
  {
   "cell_type": "code",
   "execution_count": 43,
   "metadata": {},
   "outputs": [
    {
     "data": {
      "text/html": [
       "<span class=\"tex2jax_ignore\"><svg xmlns=\"http://www.w3.org/2000/svg\" xmlns:xlink=\"http://www.w3.org/1999/xlink\" xml:lang=\"es\" id=\"6556112e8cf44160bde92bab412d6004-0\" class=\"displacy\" width=\"1100\" height=\"399.5\" direction=\"ltr\" style=\"max-width: none; height: 399.5px; color: #000000; background: #ffffff; font-family: Arial; direction: ltr\">\n",
       "<text class=\"displacy-token\" fill=\"currentColor\" text-anchor=\"middle\" y=\"309.5\">\n",
       "    <tspan class=\"displacy-word\" fill=\"currentColor\" x=\"50\">El</tspan>\n",
       "    <tspan class=\"displacy-tag\" dy=\"2em\" fill=\"currentColor\" x=\"50\">DET</tspan>\n",
       "</text>\n",
       "\n",
       "<text class=\"displacy-token\" fill=\"currentColor\" text-anchor=\"middle\" y=\"309.5\">\n",
       "    <tspan class=\"displacy-word\" fill=\"currentColor\" x=\"225\">perro</tspan>\n",
       "    <tspan class=\"displacy-tag\" dy=\"2em\" fill=\"currentColor\" x=\"225\">NOUN</tspan>\n",
       "</text>\n",
       "\n",
       "<text class=\"displacy-token\" fill=\"currentColor\" text-anchor=\"middle\" y=\"309.5\">\n",
       "    <tspan class=\"displacy-word\" fill=\"currentColor\" x=\"400\">saltó</tspan>\n",
       "    <tspan class=\"displacy-tag\" dy=\"2em\" fill=\"currentColor\" x=\"400\">VERB</tspan>\n",
       "</text>\n",
       "\n",
       "<text class=\"displacy-token\" fill=\"currentColor\" text-anchor=\"middle\" y=\"309.5\">\n",
       "    <tspan class=\"displacy-word\" fill=\"currentColor\" x=\"575\">sobre</tspan>\n",
       "    <tspan class=\"displacy-tag\" dy=\"2em\" fill=\"currentColor\" x=\"575\">ADP</tspan>\n",
       "</text>\n",
       "\n",
       "<text class=\"displacy-token\" fill=\"currentColor\" text-anchor=\"middle\" y=\"309.5\">\n",
       "    <tspan class=\"displacy-word\" fill=\"currentColor\" x=\"750\">el</tspan>\n",
       "    <tspan class=\"displacy-tag\" dy=\"2em\" fill=\"currentColor\" x=\"750\">DET</tspan>\n",
       "</text>\n",
       "\n",
       "<text class=\"displacy-token\" fill=\"currentColor\" text-anchor=\"middle\" y=\"309.5\">\n",
       "    <tspan class=\"displacy-word\" fill=\"currentColor\" x=\"925\">gato.</tspan>\n",
       "    <tspan class=\"displacy-tag\" dy=\"2em\" fill=\"currentColor\" x=\"925\">NOUN</tspan>\n",
       "</text>\n",
       "\n",
       "<g class=\"displacy-arrow\">\n",
       "    <path class=\"displacy-arc\" id=\"arrow-6556112e8cf44160bde92bab412d6004-0-0\" stroke-width=\"2px\" d=\"M70,264.5 C70,177.0 215.0,177.0 215.0,264.5\" fill=\"none\" stroke=\"currentColor\"/>\n",
       "    <text dy=\"1.25em\" style=\"font-size: 0.8em; letter-spacing: 1px\">\n",
       "        <textPath xlink:href=\"#arrow-6556112e8cf44160bde92bab412d6004-0-0\" class=\"displacy-label\" startOffset=\"50%\" side=\"left\" fill=\"currentColor\" text-anchor=\"middle\">det</textPath>\n",
       "    </text>\n",
       "    <path class=\"displacy-arrowhead\" d=\"M70,266.5 L62,254.5 78,254.5\" fill=\"currentColor\"/>\n",
       "</g>\n",
       "\n",
       "<g class=\"displacy-arrow\">\n",
       "    <path class=\"displacy-arc\" id=\"arrow-6556112e8cf44160bde92bab412d6004-0-1\" stroke-width=\"2px\" d=\"M245,264.5 C245,177.0 390.0,177.0 390.0,264.5\" fill=\"none\" stroke=\"currentColor\"/>\n",
       "    <text dy=\"1.25em\" style=\"font-size: 0.8em; letter-spacing: 1px\">\n",
       "        <textPath xlink:href=\"#arrow-6556112e8cf44160bde92bab412d6004-0-1\" class=\"displacy-label\" startOffset=\"50%\" side=\"left\" fill=\"currentColor\" text-anchor=\"middle\">nsubj</textPath>\n",
       "    </text>\n",
       "    <path class=\"displacy-arrowhead\" d=\"M245,266.5 L237,254.5 253,254.5\" fill=\"currentColor\"/>\n",
       "</g>\n",
       "\n",
       "<g class=\"displacy-arrow\">\n",
       "    <path class=\"displacy-arc\" id=\"arrow-6556112e8cf44160bde92bab412d6004-0-2\" stroke-width=\"2px\" d=\"M595,264.5 C595,89.5 920.0,89.5 920.0,264.5\" fill=\"none\" stroke=\"currentColor\"/>\n",
       "    <text dy=\"1.25em\" style=\"font-size: 0.8em; letter-spacing: 1px\">\n",
       "        <textPath xlink:href=\"#arrow-6556112e8cf44160bde92bab412d6004-0-2\" class=\"displacy-label\" startOffset=\"50%\" side=\"left\" fill=\"currentColor\" text-anchor=\"middle\">case</textPath>\n",
       "    </text>\n",
       "    <path class=\"displacy-arrowhead\" d=\"M595,266.5 L587,254.5 603,254.5\" fill=\"currentColor\"/>\n",
       "</g>\n",
       "\n",
       "<g class=\"displacy-arrow\">\n",
       "    <path class=\"displacy-arc\" id=\"arrow-6556112e8cf44160bde92bab412d6004-0-3\" stroke-width=\"2px\" d=\"M770,264.5 C770,177.0 915.0,177.0 915.0,264.5\" fill=\"none\" stroke=\"currentColor\"/>\n",
       "    <text dy=\"1.25em\" style=\"font-size: 0.8em; letter-spacing: 1px\">\n",
       "        <textPath xlink:href=\"#arrow-6556112e8cf44160bde92bab412d6004-0-3\" class=\"displacy-label\" startOffset=\"50%\" side=\"left\" fill=\"currentColor\" text-anchor=\"middle\">det</textPath>\n",
       "    </text>\n",
       "    <path class=\"displacy-arrowhead\" d=\"M770,266.5 L762,254.5 778,254.5\" fill=\"currentColor\"/>\n",
       "</g>\n",
       "\n",
       "<g class=\"displacy-arrow\">\n",
       "    <path class=\"displacy-arc\" id=\"arrow-6556112e8cf44160bde92bab412d6004-0-4\" stroke-width=\"2px\" d=\"M420,264.5 C420,2.0 925.0,2.0 925.0,264.5\" fill=\"none\" stroke=\"currentColor\"/>\n",
       "    <text dy=\"1.25em\" style=\"font-size: 0.8em; letter-spacing: 1px\">\n",
       "        <textPath xlink:href=\"#arrow-6556112e8cf44160bde92bab412d6004-0-4\" class=\"displacy-label\" startOffset=\"50%\" side=\"left\" fill=\"currentColor\" text-anchor=\"middle\">obl</textPath>\n",
       "    </text>\n",
       "    <path class=\"displacy-arrowhead\" d=\"M925.0,266.5 L933.0,254.5 917.0,254.5\" fill=\"currentColor\"/>\n",
       "</g>\n",
       "</svg></span>"
      ],
      "text/plain": [
       "<IPython.core.display.HTML object>"
      ]
     },
     "metadata": {},
     "output_type": "display_data"
    }
   ],
   "source": [
    "# Example document in Spanish\n",
    "document = \"El perro saltó sobre el gato.\"\n",
    "\n",
    "# Load spacy's model\n",
    "model = spacy.load('es_core_news_sm')\n",
    "\n",
    "# Visualizing the dependency parse\n",
    "tv.dependency_parse_visualizer_text(document, model = model, style = 'dep', jupyter = True)"
   ]
  },
  {
   "cell_type": "markdown",
   "metadata": {},
   "source": [
    "Now let's visualize the named entities instead"
   ]
  },
  {
   "cell_type": "code",
   "execution_count": 45,
   "metadata": {},
   "outputs": [
    {
     "data": {
      "text/html": [
       "<span class=\"tex2jax_ignore\"><div class=\"entities\" style=\"line-height: 2.5; direction: ltr\">El \n",
       "<mark class=\"entity\" style=\"background: #7aecec; padding: 0.45em 0.6em; margin: 0 0.25em; line-height: 1; border-radius: 0.35em;\">\n",
       "    Banco Mundial\n",
       "    <span style=\"font-size: 0.8em; font-weight: bold; line-height: 1; border-radius: 0.35em; vertical-align: middle; margin-left: 0.5rem\">ORG</span>\n",
       "</mark>\n",
       " decidió contactar al gobierno de \n",
       "<mark class=\"entity\" style=\"background: #ff9561; padding: 0.45em 0.6em; margin: 0 0.25em; line-height: 1; border-radius: 0.35em;\">\n",
       "    Argentina\n",
       "    <span style=\"font-size: 0.8em; font-weight: bold; line-height: 1; border-radius: 0.35em; vertical-align: middle; margin-left: 0.5rem\">LOC</span>\n",
       "</mark>\n",
       " para ofrecerle ayuda. Varios países como \n",
       "<mark class=\"entity\" style=\"background: #ff9561; padding: 0.45em 0.6em; margin: 0 0.25em; line-height: 1; border-radius: 0.35em;\">\n",
       "    Estados Unidos\n",
       "    <span style=\"font-size: 0.8em; font-weight: bold; line-height: 1; border-radius: 0.35em; vertical-align: middle; margin-left: 0.5rem\">LOC</span>\n",
       "</mark>\n",
       ", \n",
       "<mark class=\"entity\" style=\"background: #ff9561; padding: 0.45em 0.6em; margin: 0 0.25em; line-height: 1; border-radius: 0.35em;\">\n",
       "    China\n",
       "    <span style=\"font-size: 0.8em; font-weight: bold; line-height: 1; border-radius: 0.35em; vertical-align: middle; margin-left: 0.5rem\">LOC</span>\n",
       "</mark>\n",
       " y \n",
       "<mark class=\"entity\" style=\"background: #ff9561; padding: 0.45em 0.6em; margin: 0 0.25em; line-height: 1; border-radius: 0.35em;\">\n",
       "    Rusia\n",
       "    <span style=\"font-size: 0.8em; font-weight: bold; line-height: 1; border-radius: 0.35em; vertical-align: middle; margin-left: 0.5rem\">LOC</span>\n",
       "</mark>\n",
       " también ofrecieron su ayuda.</div></span>"
      ],
      "text/plain": [
       "<IPython.core.display.HTML object>"
      ]
     },
     "metadata": {},
     "output_type": "display_data"
    }
   ],
   "source": [
    "# Example document in Spanish\n",
    "document = \"El Banco Mundial decidió contactar al gobierno de Argentina para ofrecerle ayuda. Varios países como Estados Unidos, China y Rusia también ofrecieron su ayuda.\"\n",
    "\n",
    "# Visualizing the named entities\n",
    "tv.dependency_parse_visualizer_text(document, model = model, style = 'ent', jupyter = True)"
   ]
  },
  {
   "attachments": {},
   "cell_type": "markdown",
   "metadata": {},
   "source": [
    "## 19. Tutorial: Word Cloud"
   ]
  },
  {
   "cell_type": "code",
   "execution_count": 49,
   "metadata": {},
   "outputs": [
    {
     "data": {
      "text/plain": [
       "'c:\\\\Users\\\\Lucas\\\\Documents\\\\Tidytweets\\\\docs\\\\source\\\\examples'"
      ]
     },
     "execution_count": 49,
     "metadata": {},
     "output_type": "execute_result"
    }
   ],
   "source": [
    "import os\n",
    "from wordcloud import WordCloud\n",
    "import matplotlib.pyplot as plt\n",
    "\n",
    "os.getcwd()"
   ]
  },
  {
   "cell_type": "code",
   "execution_count": 68,
   "metadata": {},
   "outputs": [
    {
     "data": {
      "text/html": [
       "<div>\n",
       "<style scoped>\n",
       "    .dataframe tbody tr th:only-of-type {\n",
       "        vertical-align: middle;\n",
       "    }\n",
       "\n",
       "    .dataframe tbody tr th {\n",
       "        vertical-align: top;\n",
       "    }\n",
       "\n",
       "    .dataframe thead th {\n",
       "        text-align: right;\n",
       "    }\n",
       "</style>\n",
       "<table border=\"1\" class=\"dataframe\">\n",
       "  <thead>\n",
       "    <tr style=\"text-align: right;\">\n",
       "      <th></th>\n",
       "      <th>Snippet</th>\n",
       "    </tr>\n",
       "  </thead>\n",
       "  <tbody>\n",
       "    <tr>\n",
       "      <th>0</th>\n",
       "      <td>RT @emilsen_manozca ¿Me regala una moneda pa u...</td>\n",
       "    </tr>\n",
       "    <tr>\n",
       "      <th>1</th>\n",
       "      <td>RT @CriptoNoticias Banco venezolano activa ser...</td>\n",
       "    </tr>\n",
       "    <tr>\n",
       "      <th>2</th>\n",
       "      <td>Capturado venezolano que asesinó a comerciante...</td>\n",
       "    </tr>\n",
       "    <tr>\n",
       "      <th>3</th>\n",
       "      <td>RT @PersoneriaVpar @PersoneriaVpar acompaña al...</td>\n",
       "    </tr>\n",
       "    <tr>\n",
       "      <th>4</th>\n",
       "      <td>Bueno ya sacaron la carta de \"amenaza de atent...</td>\n",
       "    </tr>\n",
       "  </tbody>\n",
       "</table>\n",
       "</div>"
      ],
      "text/plain": [
       "                                             Snippet\n",
       "0  RT @emilsen_manozca ¿Me regala una moneda pa u...\n",
       "1  RT @CriptoNoticias Banco venezolano activa ser...\n",
       "2  Capturado venezolano que asesinó a comerciante...\n",
       "3  RT @PersoneriaVpar @PersoneriaVpar acompaña al...\n",
       "4  Bueno ya sacaron la carta de \"amenaza de atent..."
      ]
     },
     "execution_count": 68,
     "metadata": {},
     "output_type": "execute_result"
    }
   ],
   "source": [
    "tweets = pd.read_excel(r\"../../../data/Tweets sobre venezuela.xlsx\")\n",
    "tweets.head()"
   ]
  },
  {
   "cell_type": "code",
   "execution_count": 63,
   "metadata": {},
   "outputs": [
    {
     "data": {
      "image/png": "[encoded data removed]",
      "text/plain": [
       "<Figure size 1000x500 with 1 Axes>"
      ]
     },
     "metadata": {},
     "output_type": "display_data"
    }
   ],
   "source": [
    "# Combine all documents into a single string\n",
    "text = \" \".join(doc for doc in tweets['Snippet'])\n",
    "\n",
    "# Generate a word cloud image\n",
    "wordcloud = WordCloud(background_color = \"white\", width = 800, height = 400).generate(text)\n",
    "\n",
    "# Display the generated image\n",
    "plt.figure(figsize=(10, 5))\n",
    "plt.title(\"WordCloud before tidyX\")\n",
    "plt.imshow(wordcloud, interpolation = 'bilinear')\n",
    "plt.axis(\"off\");\n"
   ]
  },
  {
   "cell_type": "code",
   "execution_count": 78,
   "metadata": {},
   "outputs": [
    {
     "data": {
      "text/html": [
       "<div>\n",
       "<style scoped>\n",
       "    .dataframe tbody tr th:only-of-type {\n",
       "        vertical-align: middle;\n",
       "    }\n",
       "\n",
       "    .dataframe tbody tr th {\n",
       "        vertical-align: top;\n",
       "    }\n",
       "\n",
       "    .dataframe thead th {\n",
       "        text-align: right;\n",
       "    }\n",
       "</style>\n",
       "<table border=\"1\" class=\"dataframe\">\n",
       "  <thead>\n",
       "    <tr style=\"text-align: right;\">\n",
       "      <th></th>\n",
       "      <th>Snippet</th>\n",
       "      <th>clean</th>\n",
       "    </tr>\n",
       "  </thead>\n",
       "  <tbody>\n",
       "    <tr>\n",
       "      <th>0</th>\n",
       "      <td>RT @emilsen_manozca ¿Me regala una moneda pa u...</td>\n",
       "      <td>me regala una moneda pa un cafe eres venezolan...</td>\n",
       "    </tr>\n",
       "    <tr>\n",
       "      <th>1</th>\n",
       "      <td>RT @CriptoNoticias Banco venezolano activa ser...</td>\n",
       "      <td>banco venezolano activa servicio para usuarios...</td>\n",
       "    </tr>\n",
       "    <tr>\n",
       "      <th>2</th>\n",
       "      <td>Capturado venezolano que asesinó a comerciante...</td>\n",
       "      <td>capturado venezolano que asesino a comerciante...</td>\n",
       "    </tr>\n",
       "    <tr>\n",
       "      <th>3</th>\n",
       "      <td>RT @PersoneriaVpar @PersoneriaVpar acompaña al...</td>\n",
       "      <td>acompa a al grupo especial migratorio del cesa...</td>\n",
       "    </tr>\n",
       "    <tr>\n",
       "      <th>4</th>\n",
       "      <td>Bueno ya sacaron la carta de \"amenaza de atent...</td>\n",
       "      <td>bueno ya sacaron la carta de amenaza de atenta...</td>\n",
       "    </tr>\n",
       "    <tr>\n",
       "      <th>...</th>\n",
       "      <td>...</td>\n",
       "      <td>...</td>\n",
       "    </tr>\n",
       "    <tr>\n",
       "      <th>995</th>\n",
       "      <td>@VillamilBMauro @ClaudiaLopez Bueno , ya en co...</td>\n",
       "      <td>bueno ya en contexto vemos que el indice de cr...</td>\n",
       "    </tr>\n",
       "    <tr>\n",
       "      <th>996</th>\n",
       "      <td>Yo: hice arepas Venezolanes: y eso como lo abr...</td>\n",
       "      <td>yo hice arepas venezolanes y eso como lo abren</td>\n",
       "    </tr>\n",
       "    <tr>\n",
       "      <th>997</th>\n",
       "      <td>Guía del migrante https://t.co/dHivUYHHk9 vía ...</td>\n",
       "      <td>guia del migrante via</td>\n",
       "    </tr>\n",
       "    <tr>\n",
       "      <th>998</th>\n",
       "      <td>@AuraRobalino Ya sabes lo que sentimos los ven...</td>\n",
       "      <td>ya sabes lo que sentimos los venezolanos a dia...</td>\n",
       "    </tr>\n",
       "    <tr>\n",
       "      <th>999</th>\n",
       "      <td>RT infopresidencia: \"Sin lugar a dudas hay uno...</td>\n",
       "      <td>infopresidencia sin lugar a dudas hay unos efe...</td>\n",
       "    </tr>\n",
       "  </tbody>\n",
       "</table>\n",
       "<p>1000 rows × 2 columns</p>\n",
       "</div>"
      ],
      "text/plain": [
       "                                               Snippet  \\\n",
       "0    RT @emilsen_manozca ¿Me regala una moneda pa u...   \n",
       "1    RT @CriptoNoticias Banco venezolano activa ser...   \n",
       "2    Capturado venezolano que asesinó a comerciante...   \n",
       "3    RT @PersoneriaVpar @PersoneriaVpar acompaña al...   \n",
       "4    Bueno ya sacaron la carta de \"amenaza de atent...   \n",
       "..                                                 ...   \n",
       "995  @VillamilBMauro @ClaudiaLopez Bueno , ya en co...   \n",
       "996  Yo: hice arepas Venezolanes: y eso como lo abr...   \n",
       "997  Guía del migrante https://t.co/dHivUYHHk9 vía ...   \n",
       "998  @AuraRobalino Ya sabes lo que sentimos los ven...   \n",
       "999  RT infopresidencia: \"Sin lugar a dudas hay uno...   \n",
       "\n",
       "                                                 clean  \n",
       "0    me regala una moneda pa un cafe eres venezolan...  \n",
       "1    banco venezolano activa servicio para usuarios...  \n",
       "2    capturado venezolano que asesino a comerciante...  \n",
       "3    acompa a al grupo especial migratorio del cesa...  \n",
       "4    bueno ya sacaron la carta de amenaza de atenta...  \n",
       "..                                                 ...  \n",
       "995  bueno ya en contexto vemos que el indice de cr...  \n",
       "996     yo hice arepas venezolanes y eso como lo abren  \n",
       "997                              guia del migrante via  \n",
       "998  ya sabes lo que sentimos los venezolanos a dia...  \n",
       "999  infopresidencia sin lugar a dudas hay unos efe...  \n",
       "\n",
       "[1000 rows x 2 columns]"
      ]
     },
     "execution_count": 78,
     "metadata": {},
     "output_type": "execute_result"
    }
   ],
   "source": [
    "tweets['clean'] = tweets['Snippet'].apply(lambda x: tp.preprocess(x, delete_emojis = False, extract = False))\n",
    "tweets['clean'] = tweets['clean'].apply(lambda x: tp.space_between_emojis(x))\n",
    "tweets"
   ]
  },
  {
   "cell_type": "code",
   "execution_count": 76,
   "metadata": {},
   "outputs": [
    {
     "data": {
      "text/html": [
       "<div>\n",
       "<style scoped>\n",
       "    .dataframe tbody tr th:only-of-type {\n",
       "        vertical-align: middle;\n",
       "    }\n",
       "\n",
       "    .dataframe tbody tr th {\n",
       "        vertical-align: top;\n",
       "    }\n",
       "\n",
       "    .dataframe thead th {\n",
       "        text-align: right;\n",
       "    }\n",
       "</style>\n",
       "<table border=\"1\" class=\"dataframe\">\n",
       "  <thead>\n",
       "    <tr style=\"text-align: right;\">\n",
       "      <th></th>\n",
       "      <th>clean</th>\n",
       "      <th>id</th>\n",
       "    </tr>\n",
       "  </thead>\n",
       "  <tbody>\n",
       "    <tr>\n",
       "      <th>0</th>\n",
       "      <td></td>\n",
       "      <td>246</td>\n",
       "    </tr>\n",
       "    <tr>\n",
       "      <th>1</th>\n",
       "      <td>a</td>\n",
       "      <td>2, 3, 5, 6, 7, 9, 10, 10, 11, 12, 12, 13, 14, ...</td>\n",
       "    </tr>\n",
       "    <tr>\n",
       "      <th>2</th>\n",
       "      <td>abajo</td>\n",
       "      <td>352, 577</td>\n",
       "    </tr>\n",
       "    <tr>\n",
       "      <th>3</th>\n",
       "      <td>abandonar</td>\n",
       "      <td>337, 509</td>\n",
       "    </tr>\n",
       "    <tr>\n",
       "      <th>4</th>\n",
       "      <td>abarrotarse</td>\n",
       "      <td>993</td>\n",
       "    </tr>\n",
       "    <tr>\n",
       "      <th>...</th>\n",
       "      <td>...</td>\n",
       "      <td>...</td>\n",
       "    </tr>\n",
       "    <tr>\n",
       "      <th>6046</th>\n",
       "      <td>🤪</td>\n",
       "      <td>519</td>\n",
       "    </tr>\n",
       "    <tr>\n",
       "      <th>6047</th>\n",
       "      <td>🤬</td>\n",
       "      <td>483, 520, 908, 908</td>\n",
       "    </tr>\n",
       "    <tr>\n",
       "      <th>6048</th>\n",
       "      <td>🤯</td>\n",
       "      <td>615</td>\n",
       "    </tr>\n",
       "    <tr>\n",
       "      <th>6049</th>\n",
       "      <td>🤷</td>\n",
       "      <td>482, 736, 841, 947, 947, 947</td>\n",
       "    </tr>\n",
       "    <tr>\n",
       "      <th>6050</th>\n",
       "      <td>🥺</td>\n",
       "      <td>833, 851</td>\n",
       "    </tr>\n",
       "  </tbody>\n",
       "</table>\n",
       "<p>6051 rows × 2 columns</p>\n",
       "</div>"
      ],
      "text/plain": [
       "            clean                                                 id\n",
       "0                                                                246\n",
       "1               a  2, 3, 5, 6, 7, 9, 10, 10, 11, 12, 12, 13, 14, ...\n",
       "2           abajo                                           352, 577\n",
       "3       abandonar                                           337, 509\n",
       "4     abarrotarse                                                993\n",
       "...           ...                                                ...\n",
       "6046            🤪                                                519\n",
       "6047            🤬                                 483, 520, 908, 908\n",
       "6048            🤯                                                615\n",
       "6049            🤷                       482, 736, 841, 947, 947, 947\n",
       "6050            🥺                                           833, 851\n",
       "\n",
       "[6051 rows x 2 columns]"
      ]
     },
     "execution_count": 76,
     "metadata": {},
     "output_type": "execute_result"
    }
   ],
   "source": [
    "token_df = tp.unnest_tokens(df = tweets.copy(), input_column = \"clean\", id_col = None, unique = True)\n",
    "token_df"
   ]
  },
  {
   "cell_type": "code",
   "execution_count": 79,
   "metadata": {},
   "outputs": [],
   "source": [
    "# Load spacy's model\n",
    "model = spacy.load('es_core_news_lg')"
   ]
  },
  {
   "cell_type": "code",
   "execution_count": 80,
   "metadata": {},
   "outputs": [],
   "source": [
    "# Apply spanish_lemmatizer function to lemmatize the token\n",
    "token_df[\"lemma\"] = token_df[\"clean\"].apply(lambda x: tn.spanish_lemmatizer(token = x, model = model))"
   ]
  },
  {
   "cell_type": "code",
   "execution_count": null,
   "metadata": {},
   "outputs": [],
   "source": []
  }
 ],
 "metadata": {
  "kernelspec": {
   "display_name": "BX",
   "language": "python",
   "name": "python3"
  },
  "language_info": {
   "codemirror_mode": {
    "name": "ipython",
    "version": 3
   },
   "file_extension": ".py",
   "mimetype": "text/x-python",
   "name": "python",
   "nbconvert_exporter": "python",
   "pygments_lexer": "ipython3",
   "version": "3.9.16"
  },
  "orig_nbformat": 4
 },
 "nbformat": 4,
 "nbformat_minor": 2
}
